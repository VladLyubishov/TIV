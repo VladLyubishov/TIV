{
 "cells": [
  {
   "cell_type": "code",
   "execution_count": 1,
   "id": "9053852c-3d8f-4560-b203-e6c353e05762",
   "metadata": {},
   "outputs": [],
   "source": [
    "import os\n",
    "import csv"
   ]
  },
  {
   "cell_type": "code",
   "execution_count": 2,
   "id": "b7ea0f1b-dc0b-4e3b-8538-c21098650e88",
   "metadata": {},
   "outputs": [],
   "source": [
    "folder_path = '/mnt/d/Linux/tiv/images/imagesEvgenArchitecture'\n",
    "os.chdir(folder_path)\n",
    "os.getcwd()\n",
    "csv_file = 'Promt_ARCHIT_Evgen.csv'"
   ]
  },
  {
   "cell_type": "code",
   "execution_count": null,
   "id": "e7e87aec-cb0b-4193-9c13-3e69032ba756",
   "metadata": {},
   "outputs": [],
   "source": [
    "csv_data = []\n",
    "with open(os.path.join(folder_path, csv_file), newline='') as csvfile:\n",
    "    csv_reader = csv.reader(csvfile)\n",
    "    for row in csv_reader:\n",
    "        csv_data.append(row)\n"
   ]
  },
  {
   "cell_type": "code",
   "execution_count": null,
   "id": "94d3f28c-50ca-4e3b-b1b8-7d2d772d0b1f",
   "metadata": {},
   "outputs": [],
   "source": [
    "# Получаем список файлов изображений в папке\n",
    "image_files = [f for f in os.listdir(folder_path) if os.path.isfile(os.path.join(folder_path, f)) and f.lower().endswith(('.png', '.jpg', '.jpeg', '.gif'))]\n",
    "\n",
    "# Сортируем изображения по дате создания\n",
    "image_files.sort(key=lambda x: os.path.getmtime(os.path.join(folder_path, x)))\n",
    "\n",
    "# Переименовываем изображения согласно заданным условиям\n",
    "for i, image in enumerate(image_files):\n",
    "    new_name = f\"{i + 1}_Generated.png\"  # Формируем новое имя\n",
    "    os.rename(os.path.join(folder_path, image), os.path.join(folder_path, new_name))\n",
    "    print(f\"Переименовано изображение '{image}' в '{new_name}'\")"
   ]
  },
  {
   "cell_type": "code",
   "execution_count": null,
   "id": "b620abc0-d929-4244-8e86-dde0c30cd194",
   "metadata": {},
   "outputs": [],
   "source": [
    "# Получаем список файлов изображений в папке\n",
    "image_files = [f for f in os.listdir(folder_path) if os.path.isfile(os.path.join(folder_path, f)) and f.lower().endswith(('.png', '.jpg', '.jpeg', '.gif'))]\n",
    "\n",
    "# Сортируем изображения по дате создания\n",
    "image_files.sort(key=lambda x: os.path.getmtime(os.path.join(folder_path, x)))\n",
    "\n",
    "# Переименовываем изображения согласно заданным условиям\n",
    "count = 0\n",
    "image_count = 25\n",
    "r = 2\n",
    "for row in csv_data:\n",
    "    r += 1\n",
    "    label = row[0]  # Получаем подпись из первого столбца\n",
    "    num_images = int(row[1])  # Получаем число картинок для данной подписи\n",
    "    #print(label)\n",
    "    print(num_images)\n",
    "    for i in range(num_images):\n",
    "        image_count += 1\n",
    "        new_name = f\"{image_count}_{r}_Architecture_Generated.png\"  # Формируем новое имя\n",
    "        os.rename(os.path.join(folder_path, image_files[count]), os.path.join(folder_path, new_name))\n",
    "        count+=1\n",
    "        print(f\"Переименовано изображение  в '{new_name}'\")"
   ]
  }
 ],
 "metadata": {
  "kernelspec": {
   "display_name": "Python 3 (ipykernel)",
   "language": "python",
   "name": "python3"
  },
  "language_info": {
   "codemirror_mode": {
    "name": "ipython",
    "version": 3
   },
   "file_extension": ".py",
   "mimetype": "text/x-python",
   "name": "python",
   "nbconvert_exporter": "python",
   "pygments_lexer": "ipython3",
   "version": "3.10.12"
  }
 },
 "nbformat": 4,
 "nbformat_minor": 5
}
